{
 "cells": [
  {
   "cell_type": "code",
   "execution_count": 1,
   "id": "alike-forward",
   "metadata": {},
   "outputs": [],
   "source": [
    "import pandas as pd\n",
    "import json\n",
    "import requests"
   ]
  },
  {
   "cell_type": "code",
   "execution_count": 28,
   "id": "rapid-location",
   "metadata": {},
   "outputs": [],
   "source": [
    "prefix_lbp_url = 'https://landbank.com/webapi/network-locator/showinfo?bid='\n",
    "masterlist_filename = 'landbank.json'\n",
    "branch_id_max = 7000 #3015 #last entry is 3014\n",
    "branch_id_min = 6001 #2061 #initial entry is 1"
   ]
  },
  {
   "cell_type": "code",
   "execution_count": 3,
   "id": "quick-quebec",
   "metadata": {},
   "outputs": [],
   "source": [
    "def load_masterlist(master_filename):\n",
    "  try:\n",
    "    with open(master_filename, 'r') as master_file:\n",
    "      masterlist = json.load(master_file)\n",
    "  except FileNotFoundError:\n",
    "      masterlist = {}\n",
    "  return masterlist"
   ]
  },
  {
   "cell_type": "code",
   "execution_count": 4,
   "id": "capital-generic",
   "metadata": {},
   "outputs": [],
   "source": [
    "def save_masterlist(masterlist, master_filename):\n",
    "  with open(master_filename, 'w') as master_file:\n",
    "    result = json.dump(masterlist, master_file)\n",
    "  return result"
   ]
  },
  {
   "cell_type": "code",
   "execution_count": 5,
   "id": "junior-ordinance",
   "metadata": {},
   "outputs": [],
   "source": [
    "def get_branch(branch_id, masterlist):\n",
    "    try:\n",
    "        entry = masterlist[branch_id]\n",
    "    except KeyError:\n",
    "        entry = {}\n",
    "        lbp_url = prefix_lbp_url + branch_id\n",
    "        #print(lbp_url)\n",
    "        r = requests.get(lbp_url)\n",
    "        ent = r.json()\n",
    "        if ent['branchlist'] != []:\n",
    "            entry = ent['branchlist'][0]\n",
    "            masterlist[branch_id] = entry\n",
    "        #df = pd.json_normalize(ent, 'branchlist', record_prefix='branch_')\n",
    "        #df.set_index('branch_id', inplace=True, drop=False)\n",
    "    return entry, masterlist"
   ]
  },
  {
   "cell_type": "code",
   "execution_count": 6,
   "id": "verbal-indie",
   "metadata": {},
   "outputs": [],
   "source": [
    "#unused -- kept only for future reference\n",
    "def read_lbpfile(filename):\n",
    "    with open(filename) as data_file:    \n",
    "        data = json.load(data_file)\n",
    "        df = pd.json_normalize(data, 'branchlist', record_prefix='bank_')\n",
    "    return df"
   ]
  },
  {
   "cell_type": "code",
   "execution_count": 30,
   "id": "based-parcel",
   "metadata": {},
   "outputs": [],
   "source": [
    "masterlist = load_masterlist(masterlist_filename)"
   ]
  },
  {
   "cell_type": "code",
   "execution_count": 31,
   "id": "amended-scholar",
   "metadata": {},
   "outputs": [
    {
     "name": "stdout",
     "output_type": "stream",
     "text": [
      "*\n",
      "*\n",
      "*\n",
      "*\n",
      "*\n",
      "*\n",
      "*\n",
      "*\n",
      "*\n",
      "*\n",
      "*\n",
      "*\n",
      "*\n",
      "*\n",
      "*\n",
      "*\n",
      "*\n",
      "*\n",
      "*\n",
      "*\n",
      "*\n",
      "*\n",
      "*\n",
      "*\n",
      "*\n",
      "*\n",
      "*\n",
      "*\n",
      "*\n",
      "*\n",
      "*\n",
      "*\n",
      "*\n",
      "*\n",
      "*\n",
      "*\n",
      "*\n",
      "*\n",
      "*\n",
      "*\n",
      "*\n",
      "*\n",
      "*\n",
      "*\n",
      "*\n",
      "*\n",
      "*\n",
      "*\n",
      "*\n"
     ]
    }
   ],
   "source": [
    "for bid in range(branch_id_min, branch_id_max):\n",
    "    entry, masterlist = get_branch(str(bid), masterlist)\n",
    "    if bid%20==0:\n",
    "        save_masterlist(masterlist, masterlist_filename)\n",
    "        print('*')"
   ]
  },
  {
   "cell_type": "code",
   "execution_count": 24,
   "id": "essential-walnut",
   "metadata": {
    "scrolled": true
   },
   "outputs": [
    {
     "data": {
      "text/plain": [
       "{'id': 3,\n",
       " 'fid': 0,\n",
       " 'maker_id': 0,\n",
       " 'checker_id': 0,\n",
       " 'type_id': 1,\n",
       " 'region_id': 3,\n",
       " 'province_id': 12,\n",
       " 'city_id': 317,\n",
       " 'status_id': 1,\n",
       " 'name': 'Sta. Maria Branch',\n",
       " 'address': 'Formix Bldg., Fortunato Halili Ave. Bagbaguin Sta. Maria, Bulacan',\n",
       " 'email': 'BR_STAMARIA@mail.landbank.com',\n",
       " 'number': '(044) 815-4117; 641-2700',\n",
       " 'fax': '228-2577',\n",
       " 'longitude': '120.9478396',\n",
       " 'latitude': '14.815198',\n",
       " 'remarks': None,\n",
       " 'created_at': '2019-06-18 15:28:02',\n",
       " 'updated_at': '2019-06-20 10:25:16'}"
      ]
     },
     "execution_count": 24,
     "metadata": {},
     "output_type": "execute_result"
    }
   ],
   "source": [
    "masterlist['3']"
   ]
  },
  {
   "cell_type": "code",
   "execution_count": 25,
   "id": "plain-payment",
   "metadata": {},
   "outputs": [],
   "source": [
    "df = pd.read_json(masterlist_filename)"
   ]
  },
  {
   "cell_type": "code",
   "execution_count": 29,
   "id": "fantastic-willow",
   "metadata": {},
   "outputs": [],
   "source": [
    "save_masterlist(masterlist, masterlist_filename)"
   ]
  },
  {
   "cell_type": "code",
   "execution_count": 27,
   "id": "protective-assumption",
   "metadata": {},
   "outputs": [
    {
     "data": {
      "text/html": [
       "<div>\n",
       "<style scoped>\n",
       "    .dataframe tbody tr th:only-of-type {\n",
       "        vertical-align: middle;\n",
       "    }\n",
       "\n",
       "    .dataframe tbody tr th {\n",
       "        vertical-align: top;\n",
       "    }\n",
       "\n",
       "    .dataframe thead th {\n",
       "        text-align: right;\n",
       "    }\n",
       "</style>\n",
       "<table border=\"1\" class=\"dataframe\">\n",
       "  <thead>\n",
       "    <tr style=\"text-align: right;\">\n",
       "      <th></th>\n",
       "      <th>3000</th>\n",
       "      <th>1</th>\n",
       "      <th>3</th>\n",
       "      <th>4</th>\n",
       "      <th>5</th>\n",
       "      <th>6</th>\n",
       "      <th>7</th>\n",
       "      <th>8</th>\n",
       "      <th>9</th>\n",
       "      <th>10</th>\n",
       "      <th>...</th>\n",
       "      <th>5543</th>\n",
       "      <th>5544</th>\n",
       "      <th>5545</th>\n",
       "      <th>5546</th>\n",
       "      <th>5547</th>\n",
       "      <th>5548</th>\n",
       "      <th>5549</th>\n",
       "      <th>5550</th>\n",
       "      <th>5551</th>\n",
       "      <th>5552</th>\n",
       "    </tr>\n",
       "  </thead>\n",
       "  <tbody>\n",
       "    <tr>\n",
       "      <th>created_at</th>\n",
       "      <td>2019-09-26 10:27:15</td>\n",
       "      <td>2019-06-18 15:22:00</td>\n",
       "      <td>2019-06-18 15:28:02</td>\n",
       "      <td>2019-06-18 15:30:30</td>\n",
       "      <td>2019-06-18 15:35:01</td>\n",
       "      <td>2019-06-18 15:36:09</td>\n",
       "      <td>2019-06-18 16:26:07</td>\n",
       "      <td>2019-06-18 16:28:37</td>\n",
       "      <td>2019-06-18 16:31:45</td>\n",
       "      <td>2019-06-18 16:33:35</td>\n",
       "      <td>...</td>\n",
       "      <td>2021-02-26 14:58:08</td>\n",
       "      <td>2021-02-26 15:04:10</td>\n",
       "      <td>2021-02-26 15:09:34</td>\n",
       "      <td>2021-02-26 15:17:50</td>\n",
       "      <td>2021-02-26 15:23:26</td>\n",
       "      <td>2021-02-26 15:25:52</td>\n",
       "      <td>2021-02-26 15:37:21</td>\n",
       "      <td>2021-03-05 09:05:56</td>\n",
       "      <td>2021-03-05 15:00:45</td>\n",
       "      <td>2021-03-05 15:11:42</td>\n",
       "    </tr>\n",
       "    <tr>\n",
       "      <th>updated_at</th>\n",
       "      <td>2019-09-30 13:35:34</td>\n",
       "      <td>2019-06-20 10:24:54</td>\n",
       "      <td>2019-06-20 10:25:16</td>\n",
       "      <td>2019-06-18 15:30:30</td>\n",
       "      <td>2019-06-20 10:25:39</td>\n",
       "      <td>2019-06-20 14:07:20</td>\n",
       "      <td>2019-06-20 10:26:50</td>\n",
       "      <td>2019-06-20 10:27:09</td>\n",
       "      <td>2019-06-20 10:27:33</td>\n",
       "      <td>2019-06-20 10:36:53</td>\n",
       "      <td>...</td>\n",
       "      <td>2021-03-05 09:45:46</td>\n",
       "      <td>2021-03-05 09:41:09</td>\n",
       "      <td>2021-03-05 09:03:35</td>\n",
       "      <td>2021-03-05 09:35:47</td>\n",
       "      <td>2021-03-05 09:05:09</td>\n",
       "      <td>2021-03-05 09:41:37</td>\n",
       "      <td>2021-03-05 09:39:18</td>\n",
       "      <td>2021-03-05 09:11:27</td>\n",
       "      <td>2021-03-05 15:00:45</td>\n",
       "      <td>2021-03-05 15:11:42</td>\n",
       "    </tr>\n",
       "  </tbody>\n",
       "</table>\n",
       "<p>2 rows × 2849 columns</p>\n",
       "</div>"
      ],
      "text/plain": [
       "                           3000                 1                    3     \\\n",
       "created_at  2019-09-26 10:27:15  2019-06-18 15:22:00  2019-06-18 15:28:02   \n",
       "updated_at  2019-09-30 13:35:34  2019-06-20 10:24:54  2019-06-20 10:25:16   \n",
       "\n",
       "                           4                    5                    6     \\\n",
       "created_at  2019-06-18 15:30:30  2019-06-18 15:35:01  2019-06-18 15:36:09   \n",
       "updated_at  2019-06-18 15:30:30  2019-06-20 10:25:39  2019-06-20 14:07:20   \n",
       "\n",
       "                           7                    8                    9     \\\n",
       "created_at  2019-06-18 16:26:07  2019-06-18 16:28:37  2019-06-18 16:31:45   \n",
       "updated_at  2019-06-20 10:26:50  2019-06-20 10:27:09  2019-06-20 10:27:33   \n",
       "\n",
       "                           10    ...                 5543  \\\n",
       "created_at  2019-06-18 16:33:35  ...  2021-02-26 14:58:08   \n",
       "updated_at  2019-06-20 10:36:53  ...  2021-03-05 09:45:46   \n",
       "\n",
       "                           5544                 5545                 5546  \\\n",
       "created_at  2021-02-26 15:04:10  2021-02-26 15:09:34  2021-02-26 15:17:50   \n",
       "updated_at  2021-03-05 09:41:09  2021-03-05 09:03:35  2021-03-05 09:35:47   \n",
       "\n",
       "                           5547                 5548                 5549  \\\n",
       "created_at  2021-02-26 15:23:26  2021-02-26 15:25:52  2021-02-26 15:37:21   \n",
       "updated_at  2021-03-05 09:05:09  2021-03-05 09:41:37  2021-03-05 09:39:18   \n",
       "\n",
       "                           5550                 5551                 5552  \n",
       "created_at  2021-03-05 09:05:56  2021-03-05 15:00:45  2021-03-05 15:11:42  \n",
       "updated_at  2021-03-05 09:11:27  2021-03-05 15:00:45  2021-03-05 15:11:42  \n",
       "\n",
       "[2 rows x 2849 columns]"
      ]
     },
     "execution_count": 27,
     "metadata": {},
     "output_type": "execute_result"
    }
   ],
   "source": [
    "df.tail(2)"
   ]
  },
  {
   "cell_type": "code",
   "execution_count": null,
   "id": "paperback-harvey",
   "metadata": {},
   "outputs": [],
   "source": []
  }
 ],
 "metadata": {
  "kernelspec": {
   "display_name": "Python 3",
   "language": "python",
   "name": "python3"
  },
  "language_info": {
   "codemirror_mode": {
    "name": "ipython",
    "version": 3
   },
   "file_extension": ".py",
   "mimetype": "text/x-python",
   "name": "python",
   "nbconvert_exporter": "python",
   "pygments_lexer": "ipython3",
   "version": "3.9.1"
  }
 },
 "nbformat": 4,
 "nbformat_minor": 5
}
